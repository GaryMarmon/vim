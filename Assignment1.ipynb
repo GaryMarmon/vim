{
  "nbformat": 4,
  "nbformat_minor": 0,
  "metadata": {
    "colab": {
      "name": "Assignment1.ipynb",
      "provenance": [],
      "collapsed_sections": [],
      "authorship_tag": "ABX9TyOR70jgKb5dqCSCRu8fLgVy",
      "include_colab_link": true
    },
    "kernelspec": {
      "name": "python3",
      "display_name": "Python 3"
    },
    "language_info": {
      "name": "python"
    }
  },
  "cells": [
    {
      "cell_type": "markdown",
      "metadata": {
        "id": "view-in-github",
        "colab_type": "text"
      },
      "source": [
        "<a href=\"https://colab.research.google.com/github/GaryMarmon/vim/blob/master/Assignment1.ipynb\" target=\"_parent\"><img src=\"https://colab.research.google.com/assets/colab-badge.svg\" alt=\"Open In Colab\"/></a>"
      ]
    },
    {
      "cell_type": "code",
      "metadata": {
        "id": "kI57O-pJlB83"
      },
      "source": [
        "import numpy as np\n",
        "np.warnings.filterwarnings('ignore', category=np.VisibleDeprecationWarning)"
      ],
      "execution_count": 1,
      "outputs": []
    },
    {
      "cell_type": "markdown",
      "metadata": {
        "id": "xZLLYOWlHDTy"
      },
      "source": [
        "#Dataset"
      ]
    },
    {
      "cell_type": "code",
      "metadata": {
        "id": "4RaWQek0tX2d"
      },
      "source": [
        "import pandas as pd\n",
        "# create dataset\n",
        "data = {'Temperature':[98.6, 99.2, 101.5, 98.4, 99.0, 103.3, 100.1, 98.3, 101.9, 102.5, 102.1, 100.0, 102.7, 99.8],\n",
        "        'Days':[6, 3, 7, 1, 2, 9, 1, 4, 7, 11, 8, 3, 10, 3],\n",
        "        'Cough':[0, 0, 1, 0, 0, 1, 0, 0, 1, 1, 1, 0, 1, 0],\n",
        "        'COVID':[0, 0, 1, 0, 0, 1, 0, 0, 1, 1, 1, 0, 1, 0]}\n",
        "df = pd.DataFrame(data)\n",
        "\n",
        "X = df[['Temperature', 'Days', 'Cough']].values\n",
        "y = df[['COVID']].values"
      ],
      "execution_count": 3,
      "outputs": []
    },
    {
      "cell_type": "markdown",
      "metadata": {
        "id": "tPHLcsFmHInv"
      },
      "source": [
        "# Naive Algorithm"
      ]
    },
    {
      "cell_type": "markdown",
      "metadata": {
        "id": "S-xga8xcHOu_"
      },
      "source": [
        "Hypothesis set:\n",
        "\n",
        "*   H0: if temp is above 100 and patient has a cough, the patient has covid\n",
        "*   H0: if temp is above 100 and patient has had symptoms for more than 5 days, the patient has covid \n",
        "*   H0: if temp < 101 the patient does not have covid\n",
        "\n"
      ]
    },
    {
      "cell_type": "code",
      "metadata": {
        "id": "JUe9tkBmHIJA"
      },
      "source": [
        "from sklearn.metrics import accuracy_score\n",
        "\n",
        "pred_df = df.copy()\n",
        "\n",
        "# encode the hypothesis set\n",
        "hyp1 = (pred_df[\"Temperature\"] > 98.6)\n",
        "hyp2 = (pred_df[\"Temperature\"] > 100) & (pred_df[\"Cough\"] == 1) # has covid\n",
        "hyp3 = (pred_df[\"Days\"] >= 5) # has covid\n",
        "hyp4 = (pred_df[\"Temperature\"] < 100) # does not have covid \n",
        "\n",
        "# make predictions\n",
        "pred_df['Hyp1'] = np.where(hyp1, 1, 0)\n",
        "pred_df['Hyp2'] = np.where(hyp2, 1, 0)\n",
        "pred_df['Hyp3'] = np.where(hyp3, 1, 0)\n",
        "pred_df['Hyp4'] = np.where(hyp4, 0, 1)"
      ],
      "execution_count": 4,
      "outputs": []
    },
    {
      "cell_type": "code",
      "metadata": {
        "colab": {
          "base_uri": "https://localhost:8080/",
          "height": 483
        },
        "id": "NKsAHq81J9VS",
        "outputId": "541efbde-da1a-4fbc-d5e0-602ed64649d0"
      },
      "source": [
        "pred_df"
      ],
      "execution_count": 5,
      "outputs": [
        {
          "output_type": "execute_result",
          "data": {
            "text/html": [
              "<div>\n",
              "<style scoped>\n",
              "    .dataframe tbody tr th:only-of-type {\n",
              "        vertical-align: middle;\n",
              "    }\n",
              "\n",
              "    .dataframe tbody tr th {\n",
              "        vertical-align: top;\n",
              "    }\n",
              "\n",
              "    .dataframe thead th {\n",
              "        text-align: right;\n",
              "    }\n",
              "</style>\n",
              "<table border=\"1\" class=\"dataframe\">\n",
              "  <thead>\n",
              "    <tr style=\"text-align: right;\">\n",
              "      <th></th>\n",
              "      <th>Temperature</th>\n",
              "      <th>Days</th>\n",
              "      <th>Cough</th>\n",
              "      <th>COVID</th>\n",
              "      <th>Hyp1</th>\n",
              "      <th>Hyp2</th>\n",
              "      <th>Hyp3</th>\n",
              "      <th>Hyp4</th>\n",
              "    </tr>\n",
              "  </thead>\n",
              "  <tbody>\n",
              "    <tr>\n",
              "      <th>0</th>\n",
              "      <td>98.6</td>\n",
              "      <td>6</td>\n",
              "      <td>0</td>\n",
              "      <td>0</td>\n",
              "      <td>0</td>\n",
              "      <td>0</td>\n",
              "      <td>1</td>\n",
              "      <td>0</td>\n",
              "    </tr>\n",
              "    <tr>\n",
              "      <th>1</th>\n",
              "      <td>99.2</td>\n",
              "      <td>3</td>\n",
              "      <td>0</td>\n",
              "      <td>0</td>\n",
              "      <td>1</td>\n",
              "      <td>0</td>\n",
              "      <td>0</td>\n",
              "      <td>0</td>\n",
              "    </tr>\n",
              "    <tr>\n",
              "      <th>2</th>\n",
              "      <td>101.5</td>\n",
              "      <td>7</td>\n",
              "      <td>1</td>\n",
              "      <td>1</td>\n",
              "      <td>1</td>\n",
              "      <td>1</td>\n",
              "      <td>1</td>\n",
              "      <td>1</td>\n",
              "    </tr>\n",
              "    <tr>\n",
              "      <th>3</th>\n",
              "      <td>98.4</td>\n",
              "      <td>1</td>\n",
              "      <td>0</td>\n",
              "      <td>0</td>\n",
              "      <td>0</td>\n",
              "      <td>0</td>\n",
              "      <td>0</td>\n",
              "      <td>0</td>\n",
              "    </tr>\n",
              "    <tr>\n",
              "      <th>4</th>\n",
              "      <td>99.0</td>\n",
              "      <td>2</td>\n",
              "      <td>0</td>\n",
              "      <td>0</td>\n",
              "      <td>1</td>\n",
              "      <td>0</td>\n",
              "      <td>0</td>\n",
              "      <td>0</td>\n",
              "    </tr>\n",
              "    <tr>\n",
              "      <th>5</th>\n",
              "      <td>103.3</td>\n",
              "      <td>9</td>\n",
              "      <td>1</td>\n",
              "      <td>1</td>\n",
              "      <td>1</td>\n",
              "      <td>1</td>\n",
              "      <td>1</td>\n",
              "      <td>1</td>\n",
              "    </tr>\n",
              "    <tr>\n",
              "      <th>6</th>\n",
              "      <td>100.1</td>\n",
              "      <td>1</td>\n",
              "      <td>0</td>\n",
              "      <td>0</td>\n",
              "      <td>1</td>\n",
              "      <td>0</td>\n",
              "      <td>0</td>\n",
              "      <td>1</td>\n",
              "    </tr>\n",
              "    <tr>\n",
              "      <th>7</th>\n",
              "      <td>98.3</td>\n",
              "      <td>4</td>\n",
              "      <td>0</td>\n",
              "      <td>0</td>\n",
              "      <td>0</td>\n",
              "      <td>0</td>\n",
              "      <td>0</td>\n",
              "      <td>0</td>\n",
              "    </tr>\n",
              "    <tr>\n",
              "      <th>8</th>\n",
              "      <td>101.9</td>\n",
              "      <td>7</td>\n",
              "      <td>1</td>\n",
              "      <td>1</td>\n",
              "      <td>1</td>\n",
              "      <td>1</td>\n",
              "      <td>1</td>\n",
              "      <td>1</td>\n",
              "    </tr>\n",
              "    <tr>\n",
              "      <th>9</th>\n",
              "      <td>102.5</td>\n",
              "      <td>11</td>\n",
              "      <td>1</td>\n",
              "      <td>1</td>\n",
              "      <td>1</td>\n",
              "      <td>1</td>\n",
              "      <td>1</td>\n",
              "      <td>1</td>\n",
              "    </tr>\n",
              "    <tr>\n",
              "      <th>10</th>\n",
              "      <td>102.1</td>\n",
              "      <td>8</td>\n",
              "      <td>1</td>\n",
              "      <td>1</td>\n",
              "      <td>1</td>\n",
              "      <td>1</td>\n",
              "      <td>1</td>\n",
              "      <td>1</td>\n",
              "    </tr>\n",
              "    <tr>\n",
              "      <th>11</th>\n",
              "      <td>100.0</td>\n",
              "      <td>3</td>\n",
              "      <td>0</td>\n",
              "      <td>0</td>\n",
              "      <td>1</td>\n",
              "      <td>0</td>\n",
              "      <td>0</td>\n",
              "      <td>1</td>\n",
              "    </tr>\n",
              "    <tr>\n",
              "      <th>12</th>\n",
              "      <td>102.7</td>\n",
              "      <td>10</td>\n",
              "      <td>1</td>\n",
              "      <td>1</td>\n",
              "      <td>1</td>\n",
              "      <td>1</td>\n",
              "      <td>1</td>\n",
              "      <td>1</td>\n",
              "    </tr>\n",
              "    <tr>\n",
              "      <th>13</th>\n",
              "      <td>99.8</td>\n",
              "      <td>3</td>\n",
              "      <td>0</td>\n",
              "      <td>0</td>\n",
              "      <td>1</td>\n",
              "      <td>0</td>\n",
              "      <td>0</td>\n",
              "      <td>0</td>\n",
              "    </tr>\n",
              "  </tbody>\n",
              "</table>\n",
              "</div>"
            ],
            "text/plain": [
              "    Temperature  Days  Cough  COVID  Hyp1  Hyp2  Hyp3  Hyp4\n",
              "0          98.6     6      0      0     0     0     1     0\n",
              "1          99.2     3      0      0     1     0     0     0\n",
              "2         101.5     7      1      1     1     1     1     1\n",
              "3          98.4     1      0      0     0     0     0     0\n",
              "4          99.0     2      0      0     1     0     0     0\n",
              "5         103.3     9      1      1     1     1     1     1\n",
              "6         100.1     1      0      0     1     0     0     1\n",
              "7          98.3     4      0      0     0     0     0     0\n",
              "8         101.9     7      1      1     1     1     1     1\n",
              "9         102.5    11      1      1     1     1     1     1\n",
              "10        102.1     8      1      1     1     1     1     1\n",
              "11        100.0     3      0      0     1     0     0     1\n",
              "12        102.7    10      1      1     1     1     1     1\n",
              "13         99.8     3      0      0     1     0     0     0"
            ]
          },
          "metadata": {},
          "execution_count": 5
        }
      ]
    },
    {
      "cell_type": "code",
      "metadata": {
        "colab": {
          "base_uri": "https://localhost:8080/"
        },
        "id": "6T4ZuOoXHCkI",
        "outputId": "16a573d0-b11f-4eeb-cbf7-783690a9f572"
      },
      "source": [
        "print(\"Hypothesis 1 Accuracy = \", accuracy_score(pred_df['COVID'], pred_df['Hyp1']))\n",
        "print(\"Hypothesis 2 Accuracy = \", accuracy_score(pred_df['COVID'], pred_df['Hyp2']))\n",
        "print(\"Hypothesis 3 Accuracy = \", accuracy_score(pred_df['COVID'], pred_df['Hyp3']))\n",
        "print(\"Hypothesis 4 Accuracy = \", accuracy_score(pred_df['COVID'], pred_df['Hyp4']))"
      ],
      "execution_count": 6,
      "outputs": [
        {
          "output_type": "stream",
          "name": "stdout",
          "text": [
            "Hypothesis 1 Accuracy =  0.6428571428571429\n",
            "Hypothesis 2 Accuracy =  1.0\n",
            "Hypothesis 3 Accuracy =  0.9285714285714286\n",
            "Hypothesis 4 Accuracy =  0.8571428571428571\n"
          ]
        }
      ]
    },
    {
      "cell_type": "code",
      "metadata": {
        "id": "UBoHhN97tZ3c"
      },
      "source": [
        ""
      ],
      "execution_count": null,
      "outputs": []
    },
    {
      "cell_type": "markdown",
      "metadata": {
        "id": "SUfpAVrmHFVS"
      },
      "source": [
        "#PLA"
      ]
    },
    {
      "cell_type": "code",
      "metadata": {
        "colab": {
          "base_uri": "https://localhost:8080/",
          "height": 607
        },
        "id": "p6AlEmdUYGZI",
        "outputId": "74dd205e-0f24-41f8-e5ec-9c712f040e70"
      },
      "source": [
        "import numpy as np\n",
        "\n",
        "class PLA:\n",
        "    def __init__(self, alpha=0.01, iterations=500):\n",
        "        self.learn_rate = alpha\n",
        "        self.iterations = iterations\n",
        "        self.activation = self.activation\n",
        "        self.weights = None\n",
        "        self.bias = None\n",
        "\n",
        "    def activation(self, x):\n",
        "      \"\"\"step function applied to an nd array: when x > 0 return 1, else return 0\"\"\"\n",
        "\n",
        "      return np.where(x >= 0, 1, 0)\n",
        "\n",
        "    def fit(self, X, y):\n",
        "      \"\"\"fits training input data X and training labels y\"\"\"\n",
        "\n",
        "      # MxN matrix\n",
        "      num_rows, num_features = X.shape #pandas function to get (rows,columns)\n",
        "\n",
        "      # initialize weight vector and bias term to 0\n",
        "      self.weights = np.zeros(num_features)\n",
        "      self.bias = 0\n",
        "\n",
        "      iter = 0 # iter counter\n",
        "      for _ in range(self.iterations):\n",
        "          iter +=1\n",
        "          # loop over training samples\n",
        "          for idx, x in enumerate(X):\n",
        "              # get label prediction\n",
        "              linear_model = np.dot(x, self.weights) + self.bias\n",
        "              y_pred = self.activation(linear_model)\n",
        "              # Perceptron update rule: learn_rate * (actual label - predicted label)\n",
        "              # only works for linearly seperable data\n",
        "              update = self.learn_rate * (y[idx] - y_pred)\n",
        "              # update weights and bias\n",
        "              self.weights += update * x\n",
        "              self.bias += update\n",
        "\n",
        "              # print(f\"iteration # {iter}\")\n",
        "              # print(f\"Updated Weights: {self.weights}\")\n",
        "              # print(f\"Updated Bias: {self.bias}\")\n",
        "\n",
        "    def predict(self, X):\n",
        "      \"\"\"predicts label given test set X\"\"\"\n",
        "\n",
        "      # transpose(w) * x + b\n",
        "      linear_model = np.dot(X, self.weights) + self.bias\n",
        "      y_pred = self.activation(linear_model)\n",
        "      return y_pred\n",
        "\n",
        "\n",
        "# Test PLA Class\n",
        "# main function\n",
        "if __name__ == \"__main__\":\n",
        "    # for plotting\n",
        "    import matplotlib.pyplot as plt\n",
        "    import seaborn as sns\n",
        "    # for splitting data into train and test sets\n",
        "    from sklearn.model_selection import train_test_split\n",
        "    # for measuring accuracy of the PLA\n",
        "    from sklearn.metrics import accuracy_score\n",
        "\n",
        "    #option to make the fig size larger in jupyter notebooks\n",
        "    sns.set(rc={'figure.figsize':(11.7,8.27)})\n",
        "    plt.style.use('fivethirtyeight')\n",
        "\n",
        "    # create dataset\n",
        "    data = {'Temperature':[98.6, 99.2, 101.5, 98.4, 99.0, 103.3, 100.1, 98.3, 101.9, 102.5, 102.1, 100.0, 102.7, 99.8],\n",
        "            'Days':[6, 3, 7, 1, 2, 9, 1, 4, 7, 11, 8, 3, 10, 3],\n",
        "            'Cough':[0, 0, 1, 0, 0, 1, 0, 0, 1, 1, 1, 0, 1, 0],\n",
        "            'COVID':[0, 0, 1, 0, 0, 1, 0, 0, 1, 1, 1, 0, 1, 0]}\n",
        "    df = pd.DataFrame(data)\n",
        "\n",
        "    X = df[['Temperature', 'Days', 'Cough']].values\n",
        "    y = df[['COVID']].values\n",
        "\n",
        "    # split into train and test sets\n",
        "    X_train, X_test, y_train, y_test = train_test_split(\n",
        "        X, y, test_size=0.2, random_state=33)\n",
        "\n",
        "    # create PLA class instance with learn_rate=0.01 and 500 iterations\n",
        "    pla = PLA(alpha=0.01, iterations=10000)\n",
        "    # fit the data\n",
        "    pla.fit(X_train, y_train)\n",
        "    # make predictions\n",
        "    predictions = pla.predict(X_test)\n",
        "    # get final weights and bias\n",
        "    print(\"Weights = \", pla.weights)\n",
        "    print(\"Bias = \", pla.bias)\n",
        "\n",
        "    # get accuracy of those predictions\n",
        "    print(\"PLA Accuracy = \", accuracy_score(y_test, predictions))\n",
        "\n",
        "    # create plot of linear classifier\n",
        "    fig = plt.figure()\n",
        "    ax = fig.add_subplot(1, 1, 1)\n",
        "    # create scatter plot with colors mapped to labels\n",
        "    labels = y_train.flatten()\n",
        "    colormap = np.array(['g', 'b'])\n",
        "    plt.scatter(X_train[:, 0], X_train[:, 1], marker=\"o\", c=colormap[labels])\n",
        "    # plot boundry\n",
        "    xmin = np.amin(X_train[:, 0])\n",
        "    xmax = np.amax(X_train[:, 0])\n",
        "    plot_x1 = (-pla.weights[0] * xmin - pla.bias) / pla.weights[1]\n",
        "    plot_x2 = (-pla.weights[0] * xmax - pla.bias) / pla.weights[1]\n",
        "    ax.plot([xmin, xmax], [plot_x1, plot_x2], \"k\")\n",
        "    ymin = np.amin(X_train[:, 1])\n",
        "    ymax = np.amax(X_train[:, 1])\n",
        "    ax.set_ylim([0, ymax + 3])\n",
        "    ax.set_xlabel(\"Temperature\")\n",
        "    ax.set_ylabel(\"Days with Symptoms\")\n",
        "\n",
        "    plt.show()"
      ],
      "execution_count": 8,
      "outputs": [
        {
          "output_type": "stream",
          "name": "stdout",
          "text": [
            "Weights =  [-0.12  1.77  0.27]\n",
            "Bias =  [-0.01]\n",
            "PLA Accuracy =  1.0\n"
          ]
        },
        {
          "output_type": "display_data",
          "data": {
            "image/png": "[encoded data removed]",
            "text/plain": [
              "<Figure size 842.4x595.44 with 1 Axes>"
            ]
          },
          "metadata": {}
        }
      ]
    }
  ]
}