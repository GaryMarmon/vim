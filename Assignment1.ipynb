{
  "nbformat": 4,
  "nbformat_minor": 0,
  "metadata": {
    "colab": {
      "name": "Assignment1.ipynb",
      "provenance": [],
      "authorship_tag": "ABX9TyOKcHkrvMOl5KfuyrjlXAAI",
      "include_colab_link": true
    },
    "kernelspec": {
      "name": "python3",
      "display_name": "Python 3"
    },
    "language_info": {
      "name": "python"
    }
  },
  "cells": [
    {
      "cell_type": "markdown",
      "metadata": {
        "id": "view-in-github",
        "colab_type": "text"
      },
      "source": [
        "<a href=\"https://colab.research.google.com/github/GaryMarmon/vim/blob/master/Assignment1.ipynb\" target=\"_parent\"><img src=\"https://colab.research.google.com/assets/colab-badge.svg\" alt=\"Open In Colab\"/></a>"
      ]
    },
    {
      "cell_type": "code",
      "metadata": {
        "id": "kI57O-pJlB83"
      },
      "source": [
        "import numpy as np\n",
        "np.warnings.filterwarnings('ignore', category=np.VisibleDeprecationWarning)"
      ],
      "execution_count": 195,
      "outputs": []
    },
    {
      "cell_type": "code",
      "metadata": {
        "colab": {
          "base_uri": "https://localhost:8080/",
          "height": 607
        },
        "id": "p6AlEmdUYGZI",
        "outputId": "05b41c61-d8c0-45de-d0de-6c60d830ad2e"
      },
      "source": [
        "import numpy as np\n",
        "\n",
        "class PLA:\n",
        "    def __init__(self, alpha=0.01, iterations=500):\n",
        "        self.learn_rate = alpha\n",
        "        self.iterations = iterations\n",
        "        self.activation = self.activation\n",
        "        self.weights = None\n",
        "        self.bias = None\n",
        "\n",
        "    def activation(self, x):\n",
        "      \"\"\"step function applied to an nd array: when x > 0 return 1, else return 0\"\"\"\n",
        "\n",
        "      return np.where(x >= 0, 1, 0)\n",
        "\n",
        "    def fit(self, X, y):\n",
        "      \"\"\"fits training input data X and training labels y\"\"\"\n",
        "\n",
        "      # MxN matrix\n",
        "      num_rows, num_features = X.shape #pandas function to get (rows,columns)\n",
        "\n",
        "      # initialize weight vector and bias term to 0\n",
        "      self.weights = np.zeros(num_features)\n",
        "      self.bias = 0\n",
        "\n",
        "      iter = 0 # iter counter\n",
        "      for _ in range(self.iterations):\n",
        "          iter +=1\n",
        "          # loop over training samples\n",
        "          for idx, x in enumerate(X):\n",
        "              # get label prediction\n",
        "              linear_model = np.dot(x, self.weights) + self.bias\n",
        "              y_pred = self.activation(linear_model)\n",
        "              # Perceptron update rule: learn_rate * (actual label - predicted label)\n",
        "              # only works for linearly seperable data\n",
        "              update = self.learn_rate * (y[idx] - y_pred)\n",
        "              # update weights and bias\n",
        "              self.weights += update * x\n",
        "              self.bias += update\n",
        "\n",
        "              # print(f\"iteration # {iter}\")\n",
        "              # print(f\"Updated Weights: {self.weights}\")\n",
        "              # print(f\"Updated Bias: {self.bias}\")\n",
        "\n",
        "    def predict(self, X):\n",
        "      \"\"\"predicts label given test set X\"\"\"\n",
        "\n",
        "      # transpose(w) * x + b\n",
        "      linear_model = np.dot(X, self.weights) + self.bias\n",
        "      y_pred = self.activation(linear_model)\n",
        "      return y_pred\n",
        "\n",
        "\n",
        "# Test PLA Class\n",
        "# main function\n",
        "if __name__ == \"__main__\":\n",
        "    # for plotting\n",
        "    import matplotlib.pyplot as plt\n",
        "    import seaborn as sns\n",
        "    # for splitting data into train and test sets\n",
        "    from sklearn.model_selection import train_test_split\n",
        "    # for measuring accuracy of the PLA\n",
        "    from sklearn.metrics import accuracy_score\n",
        "\n",
        "    #option to make the fig size larger in jupyter notebooks\n",
        "    sns.set(rc={'figure.figsize':(11.7,8.27)})\n",
        "    plt.style.use('fivethirtyeight')\n",
        "\n",
        "    # create dataset\n",
        "    data = {'Temperature':[98.6, 99.2, 101.5, 98.4, 99.0, 103.3, 100.1, 98.3, 101.9, 102.5, 102.1, 100.0, 102.7, 99.8],\n",
        "            'Days':[6, 3, 7, 1, 2, 9, 1, 4, 7, 11, 8, 3, 10, 3],\n",
        "            'Cough':[0, 0, 1, 0, 0, 1, 0, 0, 1, 1, 1, 0, 1, 0],\n",
        "            'COVID':[0, 0, 1, 0, 0, 1, 0, 0, 1, 1, 1, 0, 1, 0]}\n",
        "    df = pd.DataFrame(data)\n",
        "\n",
        "    X = df[['Temperature', 'Days', 'Cough']].values\n",
        "    y = df[['COVID']].values\n",
        "\n",
        "    # split into train and test sets\n",
        "    X_train, X_test, y_train, y_test = train_test_split(\n",
        "        X, y, test_size=0.2, random_state=33)\n",
        "\n",
        "    # create PLA class instance with learn_rate=0.01 and 500 iterations\n",
        "    pla = PLA(alpha=0.01, iterations=10000)\n",
        "    # fit the data\n",
        "    pla.fit(X_train, y_train)\n",
        "    # make predictions\n",
        "    predictions = pla.predict(X_test)\n",
        "    # get final weights and bias\n",
        "    print(\"Weights = \", pla.weights)\n",
        "    print(\"Bias = \", pla.bias)\n",
        "\n",
        "    # get accuracy of those predictions\n",
        "    print(\"PLA Accuracy = \", accuracy_score(y_test, predictions))\n",
        "\n",
        "    # create plot of linear classifier\n",
        "    fig = plt.figure()\n",
        "    ax = fig.add_subplot(1, 1, 1)\n",
        "    # create scatter plot with colors mapped to labels\n",
        "    labels = y_train.flatten()\n",
        "    colormap = np.array(['g', 'b'])\n",
        "    plt.scatter(X_train[:, 0], X_train[:, 1], marker=\"o\", c=colormap[labels])\n",
        "    # plot boundry\n",
        "    xmin = np.amin(X_train[:, 0])\n",
        "    xmax = np.amax(X_train[:, 0])\n",
        "    plot_x1 = (-pla.weights[0] * xmin - pla.bias) / pla.weights[1]\n",
        "    plot_x2 = (-pla.weights[0] * xmax - p.bias) / pla.weights[1]\n",
        "    ax.plot([xmin, xmax], [plot_x1, plot_x2], \"k\")\n",
        "    ymin = np.amin(X_train[:, 1])\n",
        "    ymax = np.amax(X_train[:, 1])\n",
        "    ax.set_ylim([0, ymax + 3])\n",
        "    ax.set_xlabel(\"Temperature\")\n",
        "    ax.set_ylabel(\"Days with Symptoms\")\n",
        "\n",
        "    plt.show()"
      ],
      "execution_count": 199,
      "outputs": [
        {
          "output_type": "stream",
          "name": "stdout",
          "text": [
            "Weights =  [-0.12  1.77  0.27]\n",
            "Bias =  [-0.01]\n",
            "PLA Accuracy =  1.0\n"
          ]
        },
        {
          "output_type": "display_data",
          "data": {
            "image/png": "[encoded data removed]",
            "text/plain": [
              "<Figure size 842.4x595.44 with 1 Axes>"
            ]
          },
          "metadata": {}
        }
      ]
    }
  ]
}